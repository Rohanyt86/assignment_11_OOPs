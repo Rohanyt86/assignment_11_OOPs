{
 "cells": [
  {
   "cell_type": "markdown",
   "id": "a1f1b11d",
   "metadata": {},
   "source": [
    "#### Q1. Which function is used to open a file? What are the different modes of opening a file? Explain each mode of file opening."
   ]
  },
  {
   "cell_type": "code",
   "execution_count": null,
   "id": "5b5667e4",
   "metadata": {},
   "outputs": [],
   "source": [
    "The function used to open a file in Python is open(). There are various modes for opening a file:\n",
    "\n",
    "1. 'r' (Read): Used for reading a file.\n",
    "2. 'w' (Write): Used for writing to a file, overwriting existing content.\n",
    "3. 'a' (Append): Used for adding data to the end of an existing file.\n",
    "4. 'b' (Binary): Used for working with binary files.\n",
    "5. 'x' (Exclusive creation): Used to create a new file exclusively.\n"
   ]
  },
  {
   "cell_type": "markdown",
   "id": "e7ab0699",
   "metadata": {},
   "source": [
    "#### Q2. Why close() function is used? Why is it important to close a file?"
   ]
  },
  {
   "cell_type": "code",
   "execution_count": null,
   "id": "5733dc34",
   "metadata": {},
   "outputs": [],
   "source": [
    "Closing a file using the close() function is essential for:\n",
    "\n",
    "1. Resource Cleanup: It frees up system resources like memory and file handles.\n",
    "2. Data Integrity: Ensures all data is written to the file, maintaining data consistency.\n",
    "3. File Lock Release: Allows other processes to access the file.\n",
    "4. Portability: Prevents issues on systems with file limits.\n",
    "5. Performance: Can lead to more efficient code."
   ]
  },
  {
   "cell_type": "markdown",
   "id": "b1a086be",
   "metadata": {},
   "source": [
    "#### Q3. Write a python program to create a text file. Write ‘I want to become a Data Scientist’ in that file. Then close the file. Open this file and read the content of the file."
   ]
  },
  {
   "cell_type": "code",
   "execution_count": 1,
   "id": "dbd9d75c",
   "metadata": {},
   "outputs": [
    {
     "data": {
      "text/plain": [
       "33"
      ]
     },
     "execution_count": 1,
     "metadata": {},
     "output_type": "execute_result"
    }
   ],
   "source": [
    "file  = open(\"file.txt\",\"w\")\n",
    "file.write(\"I want to become a Data Scientist\")"
   ]
  },
  {
   "cell_type": "code",
   "execution_count": 2,
   "id": "3e242b77",
   "metadata": {},
   "outputs": [],
   "source": [
    "file.close()"
   ]
  },
  {
   "cell_type": "code",
   "execution_count": 6,
   "id": "11de4f53",
   "metadata": {},
   "outputs": [
    {
     "data": {
      "text/plain": [
       "'I want to become a Data Scientist'"
      ]
     },
     "execution_count": 6,
     "metadata": {},
     "output_type": "execute_result"
    }
   ],
   "source": [
    "file = open(\"file.txt\",\"r\")\n",
    "file.read()"
   ]
  },
  {
   "cell_type": "markdown",
   "id": "7b43dea1",
   "metadata": {},
   "source": [
    "#### Q4. Explain the following with python code: read(), readline() and readlines()."
   ]
  },
  {
   "cell_type": "code",
   "execution_count": 22,
   "id": "4ea950c2",
   "metadata": {},
   "outputs": [],
   "source": [
    "## make a text file\n",
    "\n",
    "file = open(\"file.txt\", \"w\")\n",
    "file.write(\"I want to become a data scientist \\nI want a big companies\\nI want a high-paying job\")\n",
    "file.close()\n"
   ]
  },
  {
   "cell_type": "code",
   "execution_count": 23,
   "id": "09fffe4f",
   "metadata": {},
   "outputs": [
    {
     "data": {
      "text/plain": [
       "'I want to become a data scientist \\nI want a big companies\\nI want a high-paying job'"
      ]
     },
     "execution_count": 23,
     "metadata": {},
     "output_type": "execute_result"
    }
   ],
   "source": [
    "## read\n",
    "\n",
    "file = open(\"file.txt\",\"r\")\n",
    "file.read()"
   ]
  },
  {
   "cell_type": "code",
   "execution_count": 24,
   "id": "646bfb35",
   "metadata": {},
   "outputs": [
    {
     "data": {
      "text/plain": [
       "'I want to become a data scientist \\n'"
      ]
     },
     "execution_count": 24,
     "metadata": {},
     "output_type": "execute_result"
    }
   ],
   "source": [
    "## readline\n",
    "\n",
    "file = open(\"file.txt\",\"r\")\n",
    "file.readline()"
   ]
  },
  {
   "cell_type": "code",
   "execution_count": 25,
   "id": "cc5058cb",
   "metadata": {},
   "outputs": [
    {
     "data": {
      "text/plain": [
       "['I want to become a data scientist \\n',\n",
       " 'I want a big companies\\n',\n",
       " 'I want a high-paying job']"
      ]
     },
     "execution_count": 25,
     "metadata": {},
     "output_type": "execute_result"
    }
   ],
   "source": [
    "## readlines\n",
    "\n",
    "file = open(\"file.txt\",\"r\")\n",
    "file.readlines()"
   ]
  },
  {
   "cell_type": "markdown",
   "id": "069ad922",
   "metadata": {},
   "source": [
    "#### Q5. Explain why with statement is used with open(). What is the advantage of using with statement and open() together?"
   ]
  },
  {
   "cell_type": "code",
   "execution_count": null,
   "id": "e15c3db1",
   "metadata": {},
   "outputs": [],
   "source": [
    "The with statement is used with open() to provide automatic resource management. Its advantages include ensuring proper\n",
    "file closure, simplifying code, and built-in exception handling, making code cleaner and more robust."
   ]
  },
  {
   "cell_type": "markdown",
   "id": "861d1157",
   "metadata": {},
   "source": [
    "#### Q6. Explain the write() and writelines() functions. Give a suitable example."
   ]
  },
  {
   "cell_type": "code",
   "execution_count": 26,
   "id": "383f08ec",
   "metadata": {},
   "outputs": [
    {
     "data": {
      "text/plain": [
       "17"
      ]
     },
     "execution_count": 26,
     "metadata": {},
     "output_type": "execute_result"
    }
   ],
   "source": [
    "file = open(\"file1.txt\",\"w\")\n",
    "file.write(\"this is new to me\")"
   ]
  },
  {
   "cell_type": "code",
   "execution_count": 27,
   "id": "cda00a9c",
   "metadata": {},
   "outputs": [],
   "source": [
    "file_name = \"example.txt\"\n",
    "\n",
    "lines = [\"Line 1\\n\", \"Line 2\\n\", \"Line 3\\n\"]\n",
    "\n",
    "# Open the file for writing\n",
    "with open(file_name, \"w\") as file:\n",
    "    file.writelines(lines)\n"
   ]
  }
 ],
 "metadata": {
  "kernelspec": {
   "display_name": "Python 3 (ipykernel)",
   "language": "python",
   "name": "python3"
  },
  "language_info": {
   "codemirror_mode": {
    "name": "ipython",
    "version": 3
   },
   "file_extension": ".py",
   "mimetype": "text/x-python",
   "name": "python",
   "nbconvert_exporter": "python",
   "pygments_lexer": "ipython3",
   "version": "3.9.13"
  }
 },
 "nbformat": 4,
 "nbformat_minor": 5
}
